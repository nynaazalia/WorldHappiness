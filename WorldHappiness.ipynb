{
 "cells": [
  {
   "cell_type": "markdown",
   "metadata": {},
   "source": [
    "# WORLD HAPPINESS\n",
    "Remedial Modul 2\n"
   ]
  },
  {
   "cell_type": "code",
   "execution_count": 1,
   "metadata": {},
   "outputs": [
    {
     "name": "stderr",
     "output_type": "stream",
     "text": [
      "/Users/shabrinaazaloa/opt/anaconda3/lib/python3.7/site-packages/statsmodels/tools/_testing.py:19: FutureWarning: pandas.util.testing is deprecated. Use the functions in the public API at pandas.testing instead.\n",
      "  import pandas.util.testing as tm\n"
     ]
    }
   ],
   "source": [
    "import pandas as pd\n",
    "import numpy as np\n",
    "import matplotlib.pyplot as plt\n",
    "import seaborn as sns"
   ]
  },
  {
   "cell_type": "code",
   "execution_count": 2,
   "metadata": {},
   "outputs": [
    {
     "data": {
      "text/html": [
       "<div>\n",
       "<style scoped>\n",
       "    .dataframe tbody tr th:only-of-type {\n",
       "        vertical-align: middle;\n",
       "    }\n",
       "\n",
       "    .dataframe tbody tr th {\n",
       "        vertical-align: top;\n",
       "    }\n",
       "\n",
       "    .dataframe thead th {\n",
       "        text-align: right;\n",
       "    }\n",
       "</style>\n",
       "<table border=\"1\" class=\"dataframe\">\n",
       "  <thead>\n",
       "    <tr style=\"text-align: right;\">\n",
       "      <th></th>\n",
       "      <th>Overall rank</th>\n",
       "      <th>Country or region</th>\n",
       "      <th>Score</th>\n",
       "      <th>GDP per capita</th>\n",
       "      <th>Social support</th>\n",
       "      <th>Healthy life expectancy</th>\n",
       "      <th>Freedom to make life choices</th>\n",
       "      <th>Generosity</th>\n",
       "      <th>Perceptions of corruption</th>\n",
       "    </tr>\n",
       "  </thead>\n",
       "  <tbody>\n",
       "    <tr>\n",
       "      <th>0</th>\n",
       "      <td>1</td>\n",
       "      <td>Finland</td>\n",
       "      <td>7.769</td>\n",
       "      <td>1.340</td>\n",
       "      <td>1.587</td>\n",
       "      <td>0.986</td>\n",
       "      <td>0.596</td>\n",
       "      <td>0.153</td>\n",
       "      <td>0.393</td>\n",
       "    </tr>\n",
       "    <tr>\n",
       "      <th>1</th>\n",
       "      <td>2</td>\n",
       "      <td>Denmark</td>\n",
       "      <td>7.600</td>\n",
       "      <td>1.383</td>\n",
       "      <td>1.573</td>\n",
       "      <td>0.996</td>\n",
       "      <td>0.592</td>\n",
       "      <td>0.252</td>\n",
       "      <td>0.410</td>\n",
       "    </tr>\n",
       "    <tr>\n",
       "      <th>2</th>\n",
       "      <td>3</td>\n",
       "      <td>Norway</td>\n",
       "      <td>7.554</td>\n",
       "      <td>1.488</td>\n",
       "      <td>1.582</td>\n",
       "      <td>1.028</td>\n",
       "      <td>0.603</td>\n",
       "      <td>0.271</td>\n",
       "      <td>0.341</td>\n",
       "    </tr>\n",
       "    <tr>\n",
       "      <th>3</th>\n",
       "      <td>4</td>\n",
       "      <td>Iceland</td>\n",
       "      <td>7.494</td>\n",
       "      <td>1.380</td>\n",
       "      <td>1.624</td>\n",
       "      <td>1.026</td>\n",
       "      <td>0.591</td>\n",
       "      <td>0.354</td>\n",
       "      <td>0.118</td>\n",
       "    </tr>\n",
       "    <tr>\n",
       "      <th>4</th>\n",
       "      <td>5</td>\n",
       "      <td>Netherlands</td>\n",
       "      <td>7.488</td>\n",
       "      <td>1.396</td>\n",
       "      <td>1.522</td>\n",
       "      <td>0.999</td>\n",
       "      <td>0.557</td>\n",
       "      <td>0.322</td>\n",
       "      <td>0.298</td>\n",
       "    </tr>\n",
       "  </tbody>\n",
       "</table>\n",
       "</div>"
      ],
      "text/plain": [
       "   Overall rank Country or region  Score  GDP per capita  Social support  \\\n",
       "0             1           Finland  7.769           1.340           1.587   \n",
       "1             2           Denmark  7.600           1.383           1.573   \n",
       "2             3            Norway  7.554           1.488           1.582   \n",
       "3             4           Iceland  7.494           1.380           1.624   \n",
       "4             5       Netherlands  7.488           1.396           1.522   \n",
       "\n",
       "   Healthy life expectancy  Freedom to make life choices  Generosity  \\\n",
       "0                    0.986                         0.596       0.153   \n",
       "1                    0.996                         0.592       0.252   \n",
       "2                    1.028                         0.603       0.271   \n",
       "3                    1.026                         0.591       0.354   \n",
       "4                    0.999                         0.557       0.322   \n",
       "\n",
       "   Perceptions of corruption  \n",
       "0                      0.393  \n",
       "1                      0.410  \n",
       "2                      0.341  \n",
       "3                      0.118  \n",
       "4                      0.298  "
      ]
     },
     "execution_count": 2,
     "metadata": {},
     "output_type": "execute_result"
    }
   ],
   "source": [
    "df = pd.read_csv(\"2019.csv\")\n",
    "df.head()"
   ]
  },
  {
   "cell_type": "code",
   "execution_count": 3,
   "metadata": {},
   "outputs": [
    {
     "data": {
      "text/html": [
       "<div>\n",
       "<style scoped>\n",
       "    .dataframe tbody tr th:only-of-type {\n",
       "        vertical-align: middle;\n",
       "    }\n",
       "\n",
       "    .dataframe tbody tr th {\n",
       "        vertical-align: top;\n",
       "    }\n",
       "\n",
       "    .dataframe thead th {\n",
       "        text-align: right;\n",
       "    }\n",
       "</style>\n",
       "<table border=\"1\" class=\"dataframe\">\n",
       "  <thead>\n",
       "    <tr style=\"text-align: right;\">\n",
       "      <th></th>\n",
       "      <th>Overall rank</th>\n",
       "      <th>Score</th>\n",
       "      <th>GDP per capita</th>\n",
       "      <th>Social support</th>\n",
       "      <th>Healthy life expectancy</th>\n",
       "      <th>Freedom to make life choices</th>\n",
       "      <th>Generosity</th>\n",
       "      <th>Perceptions of corruption</th>\n",
       "    </tr>\n",
       "  </thead>\n",
       "  <tbody>\n",
       "    <tr>\n",
       "      <th>count</th>\n",
       "      <td>156.000000</td>\n",
       "      <td>156.000000</td>\n",
       "      <td>156.000000</td>\n",
       "      <td>156.000000</td>\n",
       "      <td>156.000000</td>\n",
       "      <td>156.000000</td>\n",
       "      <td>156.000000</td>\n",
       "      <td>156.000000</td>\n",
       "    </tr>\n",
       "    <tr>\n",
       "      <th>mean</th>\n",
       "      <td>78.500000</td>\n",
       "      <td>5.407096</td>\n",
       "      <td>0.905147</td>\n",
       "      <td>1.208814</td>\n",
       "      <td>0.725244</td>\n",
       "      <td>0.392571</td>\n",
       "      <td>0.184846</td>\n",
       "      <td>0.110603</td>\n",
       "    </tr>\n",
       "    <tr>\n",
       "      <th>std</th>\n",
       "      <td>45.177428</td>\n",
       "      <td>1.113120</td>\n",
       "      <td>0.398389</td>\n",
       "      <td>0.299191</td>\n",
       "      <td>0.242124</td>\n",
       "      <td>0.143289</td>\n",
       "      <td>0.095254</td>\n",
       "      <td>0.094538</td>\n",
       "    </tr>\n",
       "    <tr>\n",
       "      <th>min</th>\n",
       "      <td>1.000000</td>\n",
       "      <td>2.853000</td>\n",
       "      <td>0.000000</td>\n",
       "      <td>0.000000</td>\n",
       "      <td>0.000000</td>\n",
       "      <td>0.000000</td>\n",
       "      <td>0.000000</td>\n",
       "      <td>0.000000</td>\n",
       "    </tr>\n",
       "    <tr>\n",
       "      <th>25%</th>\n",
       "      <td>39.750000</td>\n",
       "      <td>4.544500</td>\n",
       "      <td>0.602750</td>\n",
       "      <td>1.055750</td>\n",
       "      <td>0.547750</td>\n",
       "      <td>0.308000</td>\n",
       "      <td>0.108750</td>\n",
       "      <td>0.047000</td>\n",
       "    </tr>\n",
       "    <tr>\n",
       "      <th>50%</th>\n",
       "      <td>78.500000</td>\n",
       "      <td>5.379500</td>\n",
       "      <td>0.960000</td>\n",
       "      <td>1.271500</td>\n",
       "      <td>0.789000</td>\n",
       "      <td>0.417000</td>\n",
       "      <td>0.177500</td>\n",
       "      <td>0.085500</td>\n",
       "    </tr>\n",
       "    <tr>\n",
       "      <th>75%</th>\n",
       "      <td>117.250000</td>\n",
       "      <td>6.184500</td>\n",
       "      <td>1.232500</td>\n",
       "      <td>1.452500</td>\n",
       "      <td>0.881750</td>\n",
       "      <td>0.507250</td>\n",
       "      <td>0.248250</td>\n",
       "      <td>0.141250</td>\n",
       "    </tr>\n",
       "    <tr>\n",
       "      <th>max</th>\n",
       "      <td>156.000000</td>\n",
       "      <td>7.769000</td>\n",
       "      <td>1.684000</td>\n",
       "      <td>1.624000</td>\n",
       "      <td>1.141000</td>\n",
       "      <td>0.631000</td>\n",
       "      <td>0.566000</td>\n",
       "      <td>0.453000</td>\n",
       "    </tr>\n",
       "  </tbody>\n",
       "</table>\n",
       "</div>"
      ],
      "text/plain": [
       "       Overall rank       Score  GDP per capita  Social support  \\\n",
       "count    156.000000  156.000000      156.000000      156.000000   \n",
       "mean      78.500000    5.407096        0.905147        1.208814   \n",
       "std       45.177428    1.113120        0.398389        0.299191   \n",
       "min        1.000000    2.853000        0.000000        0.000000   \n",
       "25%       39.750000    4.544500        0.602750        1.055750   \n",
       "50%       78.500000    5.379500        0.960000        1.271500   \n",
       "75%      117.250000    6.184500        1.232500        1.452500   \n",
       "max      156.000000    7.769000        1.684000        1.624000   \n",
       "\n",
       "       Healthy life expectancy  Freedom to make life choices  Generosity  \\\n",
       "count               156.000000                    156.000000  156.000000   \n",
       "mean                  0.725244                      0.392571    0.184846   \n",
       "std                   0.242124                      0.143289    0.095254   \n",
       "min                   0.000000                      0.000000    0.000000   \n",
       "25%                   0.547750                      0.308000    0.108750   \n",
       "50%                   0.789000                      0.417000    0.177500   \n",
       "75%                   0.881750                      0.507250    0.248250   \n",
       "max                   1.141000                      0.631000    0.566000   \n",
       "\n",
       "       Perceptions of corruption  \n",
       "count                 156.000000  \n",
       "mean                    0.110603  \n",
       "std                     0.094538  \n",
       "min                     0.000000  \n",
       "25%                     0.047000  \n",
       "50%                     0.085500  \n",
       "75%                     0.141250  \n",
       "max                     0.453000  "
      ]
     },
     "execution_count": 3,
     "metadata": {},
     "output_type": "execute_result"
    }
   ],
   "source": [
    "df.describe()"
   ]
  },
  {
   "cell_type": "markdown",
   "metadata": {},
   "source": [
    "## 1. Untuk setiap numerik feature/column (kecuali column overall rank), hitung dan beri penjelasan(insight):\n"
   ]
  },
  {
   "cell_type": "code",
   "execution_count": 4,
   "metadata": {},
   "outputs": [],
   "source": [
    "df_numerical = df[['Score','GDP per capita','Social support','Healthy life expectancy',\n",
    "    'Freedom to make life choices','Generosity','Perceptions of corruption']]"
   ]
  },
  {
   "cell_type": "markdown",
   "metadata": {},
   "source": [
    "**Mean, Median dan Modus**"
   ]
  },
  {
   "cell_type": "markdown",
   "metadata": {},
   "source": [
    "Mean"
   ]
  },
  {
   "cell_type": "code",
   "execution_count": 5,
   "metadata": {
    "scrolled": false
   },
   "outputs": [
    {
     "data": {
      "text/plain": [
       "Score                           5.407096\n",
       "GDP per capita                  0.905147\n",
       "Social support                  1.208814\n",
       "Healthy life expectancy         0.725244\n",
       "Freedom to make life choices    0.392571\n",
       "Generosity                      0.184846\n",
       "Perceptions of corruption       0.110603\n",
       "dtype: float64"
      ]
     },
     "execution_count": 5,
     "metadata": {},
     "output_type": "execute_result"
    }
   ],
   "source": [
    "df_numerical.mean()"
   ]
  },
  {
   "cell_type": "markdown",
   "metadata": {},
   "source": [
    "**Output perhitungan diatas merupakan nilai rata rata dari seluruh negara.\n",
    "Untuk Happiness Score dari semua negara rata rata nya sudah cukup baik karena happiness score tertinggi adalah 7,769.**"
   ]
  },
  {
   "cell_type": "markdown",
   "metadata": {},
   "source": [
    "Median"
   ]
  },
  {
   "cell_type": "code",
   "execution_count": 6,
   "metadata": {},
   "outputs": [
    {
     "data": {
      "text/plain": [
       "Score                           5.3795\n",
       "GDP per capita                  0.9600\n",
       "Social support                  1.2715\n",
       "Healthy life expectancy         0.7890\n",
       "Freedom to make life choices    0.4170\n",
       "Generosity                      0.1775\n",
       "Perceptions of corruption       0.0855\n",
       "dtype: float64"
      ]
     },
     "execution_count": 6,
     "metadata": {},
     "output_type": "execute_result"
    }
   ],
   "source": [
    "df_numerical.median()"
   ]
  },
  {
   "cell_type": "markdown",
   "metadata": {},
   "source": [
    "**Output perhitungan diatas merupakan nilai tengah dari keselurahan data di tiap kolom. Median ini menunjukkan data banyaknya terletak dimana. Karena mean bisa dipengaruhi oleh outlier atau nilai yang ekstrim. Maka median jauh lebih stabil. Bisa kita bandingkan mean dengan median Perceptions of corruption. Perbedaannya lebih signifikan dibandingkan kolom lain. Ini dikarenakan banyaknya outlier di kolom tersebut**"
   ]
  },
  {
   "cell_type": "markdown",
   "metadata": {},
   "source": [
    "Mode"
   ]
  },
  {
   "cell_type": "code",
   "execution_count": 7,
   "metadata": {},
   "outputs": [
    {
     "data": {
      "text/html": [
       "<div>\n",
       "<style scoped>\n",
       "    .dataframe tbody tr th:only-of-type {\n",
       "        vertical-align: middle;\n",
       "    }\n",
       "\n",
       "    .dataframe tbody tr th {\n",
       "        vertical-align: top;\n",
       "    }\n",
       "\n",
       "    .dataframe thead th {\n",
       "        text-align: right;\n",
       "    }\n",
       "</style>\n",
       "<table border=\"1\" class=\"dataframe\">\n",
       "  <thead>\n",
       "    <tr style=\"text-align: right;\">\n",
       "      <th></th>\n",
       "      <th>Score</th>\n",
       "      <th>GDP per capita</th>\n",
       "      <th>Social support</th>\n",
       "      <th>Healthy life expectancy</th>\n",
       "      <th>Freedom to make life choices</th>\n",
       "      <th>Generosity</th>\n",
       "      <th>Perceptions of corruption</th>\n",
       "    </tr>\n",
       "  </thead>\n",
       "  <tbody>\n",
       "    <tr>\n",
       "      <th>0</th>\n",
       "      <td>5.208</td>\n",
       "      <td>0.96</td>\n",
       "      <td>1.465</td>\n",
       "      <td>0.815</td>\n",
       "      <td>0.498</td>\n",
       "      <td>0.153</td>\n",
       "      <td>0.028</td>\n",
       "    </tr>\n",
       "  </tbody>\n",
       "</table>\n",
       "</div>"
      ],
      "text/plain": [
       "   Score  GDP per capita  Social support  Healthy life expectancy  \\\n",
       "0  5.208            0.96           1.465                    0.815   \n",
       "\n",
       "   Freedom to make life choices  Generosity  Perceptions of corruption  \n",
       "0                         0.498       0.153                      0.028  "
      ]
     },
     "execution_count": 7,
     "metadata": {},
     "output_type": "execute_result"
    }
   ],
   "source": [
    "df_numerical.mode().dropna()"
   ]
  },
  {
   "cell_type": "markdown",
   "metadata": {},
   "source": [
    "**Output perhitungan diatas merupakan data yang sering muncul atau Frekuensi nya yang paling banyak.**"
   ]
  },
  {
   "cell_type": "markdown",
   "metadata": {},
   "source": [
    "**Range, Q1, Q3, dan IQR**"
   ]
  },
  {
   "cell_type": "markdown",
   "metadata": {},
   "source": [
    "Range"
   ]
  },
  {
   "cell_type": "code",
   "execution_count": 8,
   "metadata": {},
   "outputs": [],
   "source": [
    "R_S = df['Score'].max() - df['Score'].min()\n",
    "R_GDP = df['GDP per capita'].max() - df['GDP per capita'].min()\n",
    "R_SS = df['Social support'].max() - df['Social support'].min() \n",
    "R_HL = df['Healthy life expectancy'].max() - df['Healthy life expectancy'].min()\n",
    "R_F = df['Freedom to make life choices'].max() - df['Freedom to make life choices'].min() \n",
    "R_G = df['Freedom to make life choices'].max() - df['Freedom to make life choices'].min()\n",
    "R_P = df['Freedom to make life choices'].max() - df['Freedom to make life choices'].min() "
   ]
  },
  {
   "cell_type": "code",
   "execution_count": 9,
   "metadata": {
    "scrolled": true
   },
   "outputs": [
    {
     "data": {
      "text/html": [
       "<div>\n",
       "<style scoped>\n",
       "    .dataframe tbody tr th:only-of-type {\n",
       "        vertical-align: middle;\n",
       "    }\n",
       "\n",
       "    .dataframe tbody tr th {\n",
       "        vertical-align: top;\n",
       "    }\n",
       "\n",
       "    .dataframe thead th {\n",
       "        text-align: right;\n",
       "    }\n",
       "</style>\n",
       "<table border=\"1\" class=\"dataframe\">\n",
       "  <thead>\n",
       "    <tr style=\"text-align: right;\">\n",
       "      <th></th>\n",
       "      <th>Column</th>\n",
       "      <th>Range</th>\n",
       "    </tr>\n",
       "  </thead>\n",
       "  <tbody>\n",
       "    <tr>\n",
       "      <th>0</th>\n",
       "      <td>Score</td>\n",
       "      <td>4.916</td>\n",
       "    </tr>\n",
       "    <tr>\n",
       "      <th>1</th>\n",
       "      <td>GDP per capita</td>\n",
       "      <td>1.684</td>\n",
       "    </tr>\n",
       "    <tr>\n",
       "      <th>2</th>\n",
       "      <td>Social support</td>\n",
       "      <td>1.624</td>\n",
       "    </tr>\n",
       "    <tr>\n",
       "      <th>3</th>\n",
       "      <td>Healthy life expectancy</td>\n",
       "      <td>1.141</td>\n",
       "    </tr>\n",
       "    <tr>\n",
       "      <th>4</th>\n",
       "      <td>Freedom to make life choices</td>\n",
       "      <td>0.631</td>\n",
       "    </tr>\n",
       "    <tr>\n",
       "      <th>5</th>\n",
       "      <td>Generosity</td>\n",
       "      <td>0.631</td>\n",
       "    </tr>\n",
       "    <tr>\n",
       "      <th>6</th>\n",
       "      <td>Perceptions of corruption</td>\n",
       "      <td>0.631</td>\n",
       "    </tr>\n",
       "  </tbody>\n",
       "</table>\n",
       "</div>"
      ],
      "text/plain": [
       "                         Column  Range\n",
       "0                         Score  4.916\n",
       "1                GDP per capita  1.684\n",
       "2                Social support  1.624\n",
       "3       Healthy life expectancy  1.141\n",
       "4  Freedom to make life choices  0.631\n",
       "5                    Generosity  0.631\n",
       "6     Perceptions of corruption  0.631"
      ]
     },
     "execution_count": 9,
     "metadata": {},
     "output_type": "execute_result"
    }
   ],
   "source": [
    "df_range = pd.DataFrame({'Column' : ['Score','GDP per capita','Social support','Healthy life expectancy',\n",
    "                        'Freedom to make life choices','Generosity','Perceptions of corruption'], \n",
    "                              'Range': [R_S, R_GDP, R_SS, R_HL,R_F,R_G,R_P]})\n",
    "df_range"
   ]
  },
  {
   "cell_type": "markdown",
   "metadata": {},
   "source": [
    "**Output diatas merupakan rentang antara nilai tertinggi dengan nilai terendah dari tiap kolom**"
   ]
  },
  {
   "cell_type": "markdown",
   "metadata": {},
   "source": [
    "Q1 & Q3"
   ]
  },
  {
   "cell_type": "code",
   "execution_count": 10,
   "metadata": {
    "scrolled": false
   },
   "outputs": [
    {
     "data": {
      "text/html": [
       "<div>\n",
       "<style scoped>\n",
       "    .dataframe tbody tr th:only-of-type {\n",
       "        vertical-align: middle;\n",
       "    }\n",
       "\n",
       "    .dataframe tbody tr th {\n",
       "        vertical-align: top;\n",
       "    }\n",
       "\n",
       "    .dataframe thead th {\n",
       "        text-align: right;\n",
       "    }\n",
       "</style>\n",
       "<table border=\"1\" class=\"dataframe\">\n",
       "  <thead>\n",
       "    <tr style=\"text-align: right;\">\n",
       "      <th></th>\n",
       "      <th>Score</th>\n",
       "      <th>GDP per capita</th>\n",
       "      <th>Social support</th>\n",
       "      <th>Healthy life expectancy</th>\n",
       "      <th>Freedom to make life choices</th>\n",
       "      <th>Generosity</th>\n",
       "      <th>Perceptions of corruption</th>\n",
       "    </tr>\n",
       "  </thead>\n",
       "  <tbody>\n",
       "    <tr>\n",
       "      <th>0.25</th>\n",
       "      <td>4.5445</td>\n",
       "      <td>0.60275</td>\n",
       "      <td>1.05575</td>\n",
       "      <td>0.54775</td>\n",
       "      <td>0.30800</td>\n",
       "      <td>0.10875</td>\n",
       "      <td>0.04700</td>\n",
       "    </tr>\n",
       "    <tr>\n",
       "      <th>0.75</th>\n",
       "      <td>6.1845</td>\n",
       "      <td>1.23250</td>\n",
       "      <td>1.45250</td>\n",
       "      <td>0.88175</td>\n",
       "      <td>0.50725</td>\n",
       "      <td>0.24825</td>\n",
       "      <td>0.14125</td>\n",
       "    </tr>\n",
       "  </tbody>\n",
       "</table>\n",
       "</div>"
      ],
      "text/plain": [
       "       Score  GDP per capita  Social support  Healthy life expectancy  \\\n",
       "0.25  4.5445         0.60275         1.05575                  0.54775   \n",
       "0.75  6.1845         1.23250         1.45250                  0.88175   \n",
       "\n",
       "      Freedom to make life choices  Generosity  Perceptions of corruption  \n",
       "0.25                       0.30800     0.10875                    0.04700  \n",
       "0.75                       0.50725     0.24825                    0.14125  "
      ]
     },
     "execution_count": 10,
     "metadata": {},
     "output_type": "execute_result"
    }
   ],
   "source": [
    "df_numerical.quantile([0.25,0.75])"
   ]
  },
  {
   "cell_type": "markdown",
   "metadata": {},
   "source": [
    "**Output diatas merupakan hasil dari perhitungan yang membagi suatu data menjadi empat bagian yang sama banyak. Kemudian dari setiap data yang terbagi sama banyak tersebut dibatasi oleh sebuah nilai. Itulah Q1 dan Q3. Pembagi pertama dan ketiga. Sedangan Q2 adalah median**"
   ]
  },
  {
   "cell_type": "markdown",
   "metadata": {},
   "source": [
    "IQR"
   ]
  },
  {
   "cell_type": "code",
   "execution_count": 11,
   "metadata": {},
   "outputs": [],
   "source": [
    "IQR_S = df['Score'].quantile(0.75) - df['Score'].quantile(0.25)\n",
    "IQR_GDP = df['GDP per capita'].quantile(0.75) - df['GDP per capita'].quantile(0.25)\n",
    "IQR_SS = df['Social support'].quantile(0.75) - df['Social support'].quantile(0.25) \n",
    "IQR_HL = df['Healthy life expectancy'].quantile(0.75) - df['Healthy life expectancy'].quantile(0.25)\n",
    "IQR_F = df['Freedom to make life choices'].quantile(0.75) - df['Freedom to make life choices'].quantile(0.25) \n",
    "IQR_G = df['Generosity'].quantile(0.75) - df['Generosity'].quantile(0.25)\n",
    "IQR_P = df['Perceptions of corruption'].quantile(0.75) - df['Perceptions of corruption'].quantile(0.25) "
   ]
  },
  {
   "cell_type": "code",
   "execution_count": 12,
   "metadata": {},
   "outputs": [
    {
     "data": {
      "text/html": [
       "<div>\n",
       "<style scoped>\n",
       "    .dataframe tbody tr th:only-of-type {\n",
       "        vertical-align: middle;\n",
       "    }\n",
       "\n",
       "    .dataframe tbody tr th {\n",
       "        vertical-align: top;\n",
       "    }\n",
       "\n",
       "    .dataframe thead th {\n",
       "        text-align: right;\n",
       "    }\n",
       "</style>\n",
       "<table border=\"1\" class=\"dataframe\">\n",
       "  <thead>\n",
       "    <tr style=\"text-align: right;\">\n",
       "      <th></th>\n",
       "      <th>Column</th>\n",
       "      <th>Range</th>\n",
       "    </tr>\n",
       "  </thead>\n",
       "  <tbody>\n",
       "    <tr>\n",
       "      <th>0</th>\n",
       "      <td>Score</td>\n",
       "      <td>1.64000</td>\n",
       "    </tr>\n",
       "    <tr>\n",
       "      <th>1</th>\n",
       "      <td>GDP per capita</td>\n",
       "      <td>0.62975</td>\n",
       "    </tr>\n",
       "    <tr>\n",
       "      <th>2</th>\n",
       "      <td>Social support</td>\n",
       "      <td>0.39675</td>\n",
       "    </tr>\n",
       "    <tr>\n",
       "      <th>3</th>\n",
       "      <td>Healthy life expectancy</td>\n",
       "      <td>0.33400</td>\n",
       "    </tr>\n",
       "    <tr>\n",
       "      <th>4</th>\n",
       "      <td>Freedom to make life choices</td>\n",
       "      <td>0.19925</td>\n",
       "    </tr>\n",
       "    <tr>\n",
       "      <th>5</th>\n",
       "      <td>Generosity</td>\n",
       "      <td>0.13950</td>\n",
       "    </tr>\n",
       "    <tr>\n",
       "      <th>6</th>\n",
       "      <td>Perceptions of corruption</td>\n",
       "      <td>0.09425</td>\n",
       "    </tr>\n",
       "  </tbody>\n",
       "</table>\n",
       "</div>"
      ],
      "text/plain": [
       "                         Column    Range\n",
       "0                         Score  1.64000\n",
       "1                GDP per capita  0.62975\n",
       "2                Social support  0.39675\n",
       "3       Healthy life expectancy  0.33400\n",
       "4  Freedom to make life choices  0.19925\n",
       "5                    Generosity  0.13950\n",
       "6     Perceptions of corruption  0.09425"
      ]
     },
     "execution_count": 12,
     "metadata": {},
     "output_type": "execute_result"
    }
   ],
   "source": [
    "df_IQR = pd.DataFrame({'Column' : ['Score','GDP per capita','Social support','Healthy life expectancy',\n",
    "                        'Freedom to make life choices','Generosity','Perceptions of corruption'], \n",
    "                              'Range': [IQR_S, IQR_GDP, IQR_SS, IQR_HL,IQR_F,IQR_G,IQR_P]})\n",
    "df_IQR"
   ]
  },
  {
   "cell_type": "markdown",
   "metadata": {},
   "source": [
    "**Output diatas merupakan hasil perhitungan IQR yang menggambarkan seberapa jauh penyebaran keseluruhan data yaitu rentang antara Q3 dengan Q1**"
   ]
  },
  {
   "cell_type": "markdown",
   "metadata": {},
   "source": [
    "Standard Deviation & Variance"
   ]
  },
  {
   "cell_type": "code",
   "execution_count": 13,
   "metadata": {
    "scrolled": true
   },
   "outputs": [
    {
     "data": {
      "text/plain": [
       "Score                           1.113120\n",
       "GDP per capita                  0.398389\n",
       "Social support                  0.299191\n",
       "Healthy life expectancy         0.242124\n",
       "Freedom to make life choices    0.143289\n",
       "Generosity                      0.095254\n",
       "Perceptions of corruption       0.094538\n",
       "dtype: float64"
      ]
     },
     "execution_count": 13,
     "metadata": {},
     "output_type": "execute_result"
    }
   ],
   "source": [
    "df_numerical.std()"
   ]
  },
  {
   "cell_type": "markdown",
   "metadata": {},
   "source": [
    "**Output diatas menggambarkan persebaran data dari nilai rata-rata dalam tiap kolom. Score memiliki standar deviasi tertinggi, yang artinya nilainya tersebar lebih jauh dari rata rata dibandingkan kolom lain. Keseluruhan data pada kolom score tersebar sekitar 1,1 dari nilai rata rata score**"
   ]
  },
  {
   "cell_type": "code",
   "execution_count": 14,
   "metadata": {},
   "outputs": [
    {
     "data": {
      "text/plain": [
       "Score                           1.239036\n",
       "GDP per capita                  0.158714\n",
       "Social support                  0.089515\n",
       "Healthy life expectancy         0.058624\n",
       "Freedom to make life choices    0.020532\n",
       "Generosity                      0.009073\n",
       "Perceptions of corruption       0.008937\n",
       "dtype: float64"
      ]
     },
     "execution_count": 14,
     "metadata": {},
     "output_type": "execute_result"
    }
   ],
   "source": [
    "df_numerical.var()"
   ]
  },
  {
   "cell_type": "markdown",
   "metadata": {},
   "source": [
    "Z Score"
   ]
  },
  {
   "cell_type": "code",
   "execution_count": 15,
   "metadata": {
    "scrolled": false
   },
   "outputs": [
    {
     "data": {
      "text/html": [
       "<div>\n",
       "<style scoped>\n",
       "    .dataframe tbody tr th:only-of-type {\n",
       "        vertical-align: middle;\n",
       "    }\n",
       "\n",
       "    .dataframe tbody tr th {\n",
       "        vertical-align: top;\n",
       "    }\n",
       "\n",
       "    .dataframe thead th {\n",
       "        text-align: right;\n",
       "    }\n",
       "</style>\n",
       "<table border=\"1\" class=\"dataframe\">\n",
       "  <thead>\n",
       "    <tr style=\"text-align: right;\">\n",
       "      <th></th>\n",
       "      <th>Score</th>\n",
       "      <th>GDP per capita</th>\n",
       "      <th>Social support</th>\n",
       "      <th>Healthy life expectancy</th>\n",
       "      <th>Freedom to make life choices</th>\n",
       "      <th>Generosity</th>\n",
       "      <th>Perceptions of corruption</th>\n",
       "    </tr>\n",
       "  </thead>\n",
       "  <tbody>\n",
       "    <tr>\n",
       "      <th>0</th>\n",
       "      <td>2.128711</td>\n",
       "      <td>1.095042</td>\n",
       "      <td>1.268098</td>\n",
       "      <td>1.080422</td>\n",
       "      <td>1.424282</td>\n",
       "      <td>-0.335404</td>\n",
       "      <td>2.996757</td>\n",
       "    </tr>\n",
       "    <tr>\n",
       "      <th>1</th>\n",
       "      <td>1.976397</td>\n",
       "      <td>1.203324</td>\n",
       "      <td>1.221154</td>\n",
       "      <td>1.121857</td>\n",
       "      <td>1.396277</td>\n",
       "      <td>0.707265</td>\n",
       "      <td>3.177158</td>\n",
       "    </tr>\n",
       "    <tr>\n",
       "      <th>2</th>\n",
       "      <td>1.934938</td>\n",
       "      <td>1.467734</td>\n",
       "      <td>1.251332</td>\n",
       "      <td>1.254446</td>\n",
       "      <td>1.473292</td>\n",
       "      <td>0.907373</td>\n",
       "      <td>2.444941</td>\n",
       "    </tr>\n",
       "    <tr>\n",
       "      <th>3</th>\n",
       "      <td>1.880862</td>\n",
       "      <td>1.195769</td>\n",
       "      <td>1.392163</td>\n",
       "      <td>1.246159</td>\n",
       "      <td>1.389276</td>\n",
       "      <td>1.781530</td>\n",
       "      <td>0.078500</td>\n",
       "    </tr>\n",
       "    <tr>\n",
       "      <th>4</th>\n",
       "      <td>1.875454</td>\n",
       "      <td>1.236060</td>\n",
       "      <td>1.050146</td>\n",
       "      <td>1.134287</td>\n",
       "      <td>1.151229</td>\n",
       "      <td>1.444506</td>\n",
       "      <td>1.988632</td>\n",
       "    </tr>\n",
       "    <tr>\n",
       "      <th>...</th>\n",
       "      <td>...</td>\n",
       "      <td>...</td>\n",
       "      <td>...</td>\n",
       "      <td>...</td>\n",
       "      <td>...</td>\n",
       "      <td>...</td>\n",
       "      <td>...</td>\n",
       "    </tr>\n",
       "    <tr>\n",
       "      <th>151</th>\n",
       "      <td>-1.868418</td>\n",
       "      <td>-1.375303</td>\n",
       "      <td>-1.669224</td>\n",
       "      <td>-0.460929</td>\n",
       "      <td>1.137227</td>\n",
       "      <td>0.338645</td>\n",
       "      <td>3.187770</td>\n",
       "    </tr>\n",
       "    <tr>\n",
       "      <th>152</th>\n",
       "      <td>-1.961248</td>\n",
       "      <td>-1.080675</td>\n",
       "      <td>-1.085783</td>\n",
       "      <td>-0.937421</td>\n",
       "      <td>0.171040</td>\n",
       "      <td>0.960033</td>\n",
       "      <td>0.386244</td>\n",
       "    </tr>\n",
       "    <tr>\n",
       "      <th>153</th>\n",
       "      <td>-1.986484</td>\n",
       "      <td>-1.397967</td>\n",
       "      <td>-2.319726</td>\n",
       "      <td>-1.509213</td>\n",
       "      <td>-2.748526</td>\n",
       "      <td>-0.282744</td>\n",
       "      <td>-0.908401</td>\n",
       "    </tr>\n",
       "    <tr>\n",
       "      <th>154</th>\n",
       "      <td>-2.094636</td>\n",
       "      <td>-2.213861</td>\n",
       "      <td>-4.053282</td>\n",
       "      <td>-2.569928</td>\n",
       "      <td>-1.173221</td>\n",
       "      <td>0.528221</td>\n",
       "      <td>-0.802283</td>\n",
       "    </tr>\n",
       "    <tr>\n",
       "      <th>155</th>\n",
       "      <td>-2.301928</td>\n",
       "      <td>-1.508767</td>\n",
       "      <td>-2.125246</td>\n",
       "      <td>-1.782678</td>\n",
       "      <td>-2.678512</td>\n",
       "      <td>0.180664</td>\n",
       "      <td>-0.208019</td>\n",
       "    </tr>\n",
       "  </tbody>\n",
       "</table>\n",
       "<p>156 rows × 7 columns</p>\n",
       "</div>"
      ],
      "text/plain": [
       "        Score  GDP per capita  Social support  Healthy life expectancy  \\\n",
       "0    2.128711        1.095042        1.268098                 1.080422   \n",
       "1    1.976397        1.203324        1.221154                 1.121857   \n",
       "2    1.934938        1.467734        1.251332                 1.254446   \n",
       "3    1.880862        1.195769        1.392163                 1.246159   \n",
       "4    1.875454        1.236060        1.050146                 1.134287   \n",
       "..        ...             ...             ...                      ...   \n",
       "151 -1.868418       -1.375303       -1.669224                -0.460929   \n",
       "152 -1.961248       -1.080675       -1.085783                -0.937421   \n",
       "153 -1.986484       -1.397967       -2.319726                -1.509213   \n",
       "154 -2.094636       -2.213861       -4.053282                -2.569928   \n",
       "155 -2.301928       -1.508767       -2.125246                -1.782678   \n",
       "\n",
       "     Freedom to make life choices  Generosity  Perceptions of corruption  \n",
       "0                        1.424282   -0.335404                   2.996757  \n",
       "1                        1.396277    0.707265                   3.177158  \n",
       "2                        1.473292    0.907373                   2.444941  \n",
       "3                        1.389276    1.781530                   0.078500  \n",
       "4                        1.151229    1.444506                   1.988632  \n",
       "..                            ...         ...                        ...  \n",
       "151                      1.137227    0.338645                   3.187770  \n",
       "152                      0.171040    0.960033                   0.386244  \n",
       "153                     -2.748526   -0.282744                  -0.908401  \n",
       "154                     -1.173221    0.528221                  -0.802283  \n",
       "155                     -2.678512    0.180664                  -0.208019  \n",
       "\n",
       "[156 rows x 7 columns]"
      ]
     },
     "execution_count": 15,
     "metadata": {},
     "output_type": "execute_result"
    }
   ],
   "source": [
    "df_zscore = (df_numerical - df_numerical.mean())/df_numerical.std(ddof=0)\n",
    "df_zscore"
   ]
  },
  {
   "cell_type": "markdown",
   "metadata": {},
   "source": [
    "**Output diatas merupakan hasil dari mengubah seluruh data menjadi zscore atau score standar dimana mean 0 dan std 1. Perhitungan ini biasa dilakukan untuk mencari outlier dalam data**"
   ]
  },
  {
   "cell_type": "markdown",
   "metadata": {},
   "source": [
    "## 2. Outlier using IQR and Z Score method"
   ]
  },
  {
   "cell_type": "markdown",
   "metadata": {},
   "source": [
    "IQR"
   ]
  },
  {
   "cell_type": "code",
   "execution_count": 16,
   "metadata": {
    "scrolled": false
   },
   "outputs": [
    {
     "name": "stdout",
     "output_type": "stream",
     "text": [
      "Lower limit Score : 2.0845000000000007, & Upper limit : 8.644499999999999\n",
      "[]\n",
      "Lower limit GDP per capita : -0.3418749999999998, & Upper limit : 2.1771249999999998\n",
      "[]\n",
      "Lower limit Social support : 0.46062500000000006, & Upper limit : 2.047625\n",
      "[0.437 0.447 0.378 0.   ]\n",
      "Lower limit Healthy life expectancy : 0.04675000000000007, & Upper limit : 1.3827499999999997\n",
      "[0.]\n",
      "Lower limit Freedom to make life choices : 0.009124999999999994, & Upper limit : 0.806125\n",
      "[0.]\n",
      "Lower limit Generosity : -0.10049999999999998, & Upper limit : 0.4575\n",
      "[0.498 0.566]\n",
      "Lower limit Perceptions of corruption : -0.09437499999999997, & Upper limit : 0.28262499999999996\n",
      "[0.393 0.41  0.341 0.298 0.343 0.373 0.38  0.308 0.29  0.316 0.31  0.453\n",
      " 0.287 0.411]\n"
     ]
    }
   ],
   "source": [
    "cek = ['Score','GDP per capita','Social support','Healthy life expectancy',\n",
    "    'Freedom to make life choices','Generosity','Perceptions of corruption']\n",
    "\n",
    "def cek_outlier(df, col_name):\n",
    "    q1 = df[col_name].describe()['25%']\n",
    "    q3 = df[col_name].describe()['75%']\n",
    "    iqr = q3-q1 \n",
    "    low  = q1-(1.5*iqr)\n",
    "    high = q3+(1.5*iqr)\n",
    "    print(f\"Lower limit {col_name} : {low}, & Upper limit : {high}\")\n",
    "    Outlier = df[(df[col_name] < q1 - (1.5*iqr)) | (df[col_name] > q3 + (1.5 * iqr))][col_name].index\n",
    "    print(df[col_name][Outlier].values)\n",
    "    \n",
    "for i in cek:\n",
    "    cek_outlier(df, i)"
   ]
  },
  {
   "cell_type": "markdown",
   "metadata": {},
   "source": [
    "**Output diatas merupakan nilai ekstrim dari setiap kolom. Kemungkinan dikarenakan adanya negara maju dan negara berkembang, perbedaan lifestyle serta mindset. Sehingga ada perbedaan yang signifikan antar negara**"
   ]
  },
  {
   "cell_type": "markdown",
   "metadata": {},
   "source": [
    "Z Score"
   ]
  },
  {
   "cell_type": "markdown",
   "metadata": {},
   "source": [
    "We find the mean and standard deviation of the all the data points then find the z score for each of the data point in the dataset and if the z score is greater than 3 than we can classify that point as an outlier. Any point outside of 3 standard deviations would be an outlier."
   ]
  },
  {
   "cell_type": "code",
   "execution_count": 17,
   "metadata": {},
   "outputs": [],
   "source": [
    "outliers=[]\n",
    "def detect_outlier(data):\n",
    "    threshold=3\n",
    "    data_mean = np.mean(data)\n",
    "    data_std =np.std(data)\n",
    "    for i in data:\n",
    "        z_score= (i - data_mean)/data_std \n",
    "        if np.abs(z_score) > threshold:\n",
    "            outliers.append(i)\n",
    "    return outliers\n",
    "outlier_1= detect_outlier(df['Score'])"
   ]
  },
  {
   "cell_type": "code",
   "execution_count": 18,
   "metadata": {},
   "outputs": [],
   "source": [
    "outliers=[]\n",
    "def detect_outlier(data):\n",
    "    threshold=3\n",
    "    data_mean = np.mean(data)\n",
    "    data_std =np.std(data)\n",
    "    for i in data:\n",
    "        z_score= (i - data_mean)/data_std \n",
    "        if np.abs(z_score) > threshold:\n",
    "            outliers.append(i)\n",
    "    return outliers\n",
    "outlier_2 = detect_outlier(df['GDP per capita'])\n"
   ]
  },
  {
   "cell_type": "code",
   "execution_count": 19,
   "metadata": {},
   "outputs": [],
   "source": [
    "outliers=[]\n",
    "def detect_outlier(data):\n",
    "    threshold=3\n",
    "    data_mean = np.mean(data)\n",
    "    data_std =np.std(data)\n",
    "    for i in data:\n",
    "        z_score= (i - data_mean)/data_std \n",
    "        if np.abs(z_score) > threshold:\n",
    "            outliers.append(i)\n",
    "    return outliers\n",
    "outlier_3 = detect_outlier(df['Social support'])\n"
   ]
  },
  {
   "cell_type": "code",
   "execution_count": 20,
   "metadata": {},
   "outputs": [],
   "source": [
    "outliers=[]\n",
    "def detect_outlier(data):\n",
    "    threshold=3\n",
    "    data_mean = np.mean(data)\n",
    "    data_std =np.std(data)\n",
    "    for i in data:\n",
    "        z_score= (i - data_mean)/data_std \n",
    "        if np.abs(z_score) > threshold:\n",
    "            outliers.append(i)\n",
    "    return outliers\n",
    "outlier_4 = detect_outlier(df['Healthy life expectancy'])\n"
   ]
  },
  {
   "cell_type": "code",
   "execution_count": 21,
   "metadata": {},
   "outputs": [],
   "source": [
    "outliers=[]\n",
    "def detect_outlier(data):\n",
    "    threshold=3\n",
    "    data_mean = np.mean(data)\n",
    "    data_std =np.std(data)\n",
    "    for i in data:\n",
    "        z_score= (i - data_mean)/data_std \n",
    "        if np.abs(z_score) > threshold:\n",
    "            outliers.append(i)\n",
    "    return outliers\n",
    "outlier_5 = detect_outlier(df['Generosity'])"
   ]
  },
  {
   "cell_type": "code",
   "execution_count": 22,
   "metadata": {},
   "outputs": [],
   "source": [
    "outliers=[]\n",
    "def detect_outlier(data):\n",
    "    threshold=3\n",
    "    data_mean = np.mean(data)\n",
    "    data_std =np.std(data)\n",
    "    for i in data:\n",
    "        z_score= (i - data_mean)/data_std \n",
    "        if np.abs(z_score) > threshold:\n",
    "            outliers.append(i)\n",
    "    return outliers\n",
    "outlier_6 = detect_outlier(df['Perceptions of corruption'])"
   ]
  },
  {
   "cell_type": "code",
   "execution_count": 23,
   "metadata": {},
   "outputs": [
    {
     "name": "stdout",
     "output_type": "stream",
     "text": [
      "Outlier Score:  []\n",
      "Outlier GDP per capita:  []\n",
      "Outlier Social support:  [0.0]\n",
      "Outlier Healthy life expectancy:  [0.0]\n",
      "Outlier Generosity:  [0.498, 0.5660000000000001]\n",
      "Outlier Perceptions of corruption:  [0.41, 0.45299999999999996, 0.41100000000000003]\n"
     ]
    }
   ],
   "source": [
    "print('Outlier Score: ', outlier_1)\n",
    "print('Outlier GDP per capita: ', outlier_2)\n",
    "print('Outlier Social support: ', outlier_3)\n",
    "print('Outlier Healthy life expectancy: ', outlier_4)\n",
    "print('Outlier Generosity: ', outlier_5)\n",
    "print('Outlier Perceptions of corruption: ', outlier_6)"
   ]
  },
  {
   "cell_type": "markdown",
   "metadata": {},
   "source": [
    "**Metode zscore juga bisa digunakan untuk mencari nilai ekstrim dalam data**"
   ]
  },
  {
   "cell_type": "markdown",
   "metadata": {},
   "source": [
    "## 3. Tampilkan sebaran masing-masing numerik feature/column (kecuali column Overall Rank) dalam bentuk plot yang tepat"
   ]
  },
  {
   "cell_type": "code",
   "execution_count": 24,
   "metadata": {
    "scrolled": false
   },
   "outputs": [
    {
     "data": {
      "image/png": "[encoded data removed]",
      "text/plain": [
       "<Figure size 720x720 with 7 Axes>"
      ]
     },
     "metadata": {
      "needs_background": "light"
     },
     "output_type": "display_data"
    }
   ],
   "source": [
    "features = ['Score','GDP per capita','Social support','Healthy life expectancy',\n",
    "    'Freedom to make life choices','Generosity','Perceptions of corruption']\n",
    "n = 1\n",
    "plt.figure(figsize=(10,10))\n",
    "for feature in features:\n",
    "    plt.subplot(3,3,n)\n",
    "    sns.boxplot(df[feature])\n",
    "    n+=1\n",
    "    plt.tight_layout()"
   ]
  },
  {
   "cell_type": "markdown",
   "metadata": {},
   "source": [
    "**Berdasarkan visualisasi boxplot diatas, terdapat titik hitam yang merupakan outlier pada beberapa feature. Dari visualisasi ini juga kita bisa melihat kotak birunya terletak di sisi mana. Social support cenderung ke kanan sehingga bisa disimpulkan bahwa social support di seluruh negara cenderung baik. Karena nilai median social supportnya besar dan mendekati maksimum. Namun, tidak mutlak semakin ke kanan semakin baik, tergantung domain knowledge. Menurut saya visualisasi dalam bentuk boxplot diperlukan karna memberi banyak informasi yang bermanfaat**"
   ]
  },
  {
   "cell_type": "code",
   "execution_count": 25,
   "metadata": {},
   "outputs": [
    {
     "data": {
      "image/png": "[encoded data removed]",
      "text/plain": [
       "<Figure size 2160x360 with 7 Axes>"
      ]
     },
     "metadata": {
      "needs_background": "light"
     },
     "output_type": "display_data"
    }
   ],
   "source": [
    "fig, ax = plt.subplots(1,7, figsize=(30, 5))\n",
    "df[['Score','GDP per capita','Social support','Healthy life expectancy','Freedom to make life choices','Generosity','Perceptions of corruption']].hist(bins=10,color='orange', alpha=1, ax=ax)\n",
    "plt.show()"
   ]
  },
  {
   "cell_type": "markdown",
   "metadata": {},
   "source": [
    "**Visualisasi ini juga diperlukan untuk melihat lebih jelas nilai nilai dalam setiap feature. Kita juga bisa mengetahui apakah data berdistribusi normal atau tidak. Dan lebih terlihat jelas frekuensi data dalam tiap feature. Seperti perceptions of corruption data kebanyakan sekitar 0.05- 0.1**"
   ]
  },
  {
   "cell_type": "markdown",
   "metadata": {},
   "source": [
    "## 4. Di antara semua numerik feature/column (kecuali column Overall Rank), feature/column mana saja yang sangat mempengaruhi happiness score suatu negara?"
   ]
  },
  {
   "cell_type": "markdown",
   "metadata": {},
   "source": [
    "Untuk mengukur korelasi antara dua variabel continuous/discrete. Dapat menggunakan spearman dan pearson correlation. Tergantung dari beberapa faktor. Spearman untuk non parametrik dan pearson untuk parametrik. Spearman lebih cocok untuk data yang tidak berdistribusi normal, sedangkan pearson untuk data yang berdistribusi normal. Semakin mendekati 1, maka korelasinya semakin kuat.Semakin mendekati 0, maka semakin lemah. Sementara nilai + dan - melambangkan korelasi searah atau berkebalikan\n",
    "\n",
    "Maka dari itu, sebelumnya kita perlu visualisasikan dalam bentuk scatter plot dan cek kenormalan data"
   ]
  },
  {
   "cell_type": "code",
   "execution_count": 26,
   "metadata": {},
   "outputs": [
    {
     "name": "stdout",
     "output_type": "stream",
     "text": [
      "NORMALLY Distributed for Score\n",
      "NOT NORMALLY Distributed for GDP per capita\n",
      "NOT NORMALLY Distributed for Social support\n",
      "NOT NORMALLY Distributed for Healthy life expectancy\n",
      "NOT NORMALLY Distributed for Freedom to make life choices\n",
      "NOT NORMALLY Distributed for Generosity\n",
      "NOT NORMALLY Distributed for Perceptions of corruption\n"
     ]
    }
   ],
   "source": [
    "from scipy.stats import anderson\n",
    "def normal(df):\n",
    "    \n",
    "    stat = anderson(df)[0]\n",
    "    cval = anderson(df)[1][2]\n",
    "    if stat < cval :\n",
    "        print('NORMALLY Distributed for ' + col)\n",
    "    else :\n",
    "        print('NOT NORMALLY Distributed for ' + col)\n",
    "        \n",
    "for col in df_numerical :\n",
    "    normal(df_numerical[col])"
   ]
  },
  {
   "cell_type": "code",
   "execution_count": 27,
   "metadata": {
    "scrolled": true
   },
   "outputs": [
    {
     "data": {
      "text/plain": [
       "<matplotlib.collections.PathCollection at 0x12a7dcbd0>"
      ]
     },
     "execution_count": 27,
     "metadata": {},
     "output_type": "execute_result"
    },
    {
     "data": {
      "image/png": "[encoded data removed]",
      "text/plain": [
       "<Figure size 432x288 with 1 Axes>"
      ]
     },
     "metadata": {
      "needs_background": "light"
     },
     "output_type": "display_data"
    }
   ],
   "source": [
    "plt.scatter(df['GDP per capita'], df['Score'])"
   ]
  },
  {
   "cell_type": "code",
   "execution_count": 28,
   "metadata": {},
   "outputs": [
    {
     "data": {
      "text/plain": [
       "<matplotlib.collections.PathCollection at 0x12a7dcc50>"
      ]
     },
     "execution_count": 28,
     "metadata": {},
     "output_type": "execute_result"
    },
    {
     "data": {
      "image/png": "[encoded data removed]",
      "text/plain": [
       "<Figure size 432x288 with 1 Axes>"
      ]
     },
     "metadata": {
      "needs_background": "light"
     },
     "output_type": "display_data"
    }
   ],
   "source": [
    "plt.scatter(df['Social support'], df['Score'])"
   ]
  },
  {
   "cell_type": "code",
   "execution_count": 29,
   "metadata": {},
   "outputs": [
    {
     "data": {
      "text/plain": [
       "<matplotlib.collections.PathCollection at 0x129d9f6d0>"
      ]
     },
     "execution_count": 29,
     "metadata": {},
     "output_type": "execute_result"
    },
    {
     "data": {
      "image/png": "[encoded data removed]",
      "text/plain": [
       "<Figure size 432x288 with 1 Axes>"
      ]
     },
     "metadata": {
      "needs_background": "light"
     },
     "output_type": "display_data"
    }
   ],
   "source": [
    "plt.scatter(df['Healthy life expectancy'], df['Score'])"
   ]
  },
  {
   "cell_type": "code",
   "execution_count": 30,
   "metadata": {},
   "outputs": [
    {
     "data": {
      "text/plain": [
       "<matplotlib.collections.PathCollection at 0x129eb2110>"
      ]
     },
     "execution_count": 30,
     "metadata": {},
     "output_type": "execute_result"
    },
    {
     "data": {
      "image/png": "[encoded data removed]",
      "text/plain": [
       "<Figure size 432x288 with 1 Axes>"
      ]
     },
     "metadata": {
      "needs_background": "light"
     },
     "output_type": "display_data"
    }
   ],
   "source": [
    "plt.scatter(df['Generosity'], df['Score'])"
   ]
  },
  {
   "cell_type": "code",
   "execution_count": 31,
   "metadata": {
    "scrolled": false
   },
   "outputs": [
    {
     "data": {
      "text/plain": [
       "<matplotlib.collections.PathCollection at 0x12a7cd250>"
      ]
     },
     "execution_count": 31,
     "metadata": {},
     "output_type": "execute_result"
    },
    {
     "data": {
      "image/png": "[encoded data removed]",
      "text/plain": [
       "<Figure size 432x288 with 1 Axes>"
      ]
     },
     "metadata": {
      "needs_background": "light"
     },
     "output_type": "display_data"
    }
   ],
   "source": [
    "plt.scatter(df['Perceptions of corruption'], df['Score'])"
   ]
  },
  {
   "cell_type": "markdown",
   "metadata": {},
   "source": [
    "**Apabila kita lihat persebaran data, happiness score memiliki korelasi monotonic yang kuat(+) dengan GDP per capita, social support dan social life expentancy. Dimana semakin meningkat nilai suatu variabel maka variabel lainnya ikut meningkat. Kita lakukan perhitungan dengan spearman & pearson agar mendapat hasil yang lebih akurat**"
   ]
  },
  {
   "cell_type": "markdown",
   "metadata": {},
   "source": [
    "PEARSON"
   ]
  },
  {
   "cell_type": "code",
   "execution_count": 32,
   "metadata": {
    "scrolled": false
   },
   "outputs": [
    {
     "data": {
      "text/html": [
       "<div>\n",
       "<style scoped>\n",
       "    .dataframe tbody tr th:only-of-type {\n",
       "        vertical-align: middle;\n",
       "    }\n",
       "\n",
       "    .dataframe tbody tr th {\n",
       "        vertical-align: top;\n",
       "    }\n",
       "\n",
       "    .dataframe thead th {\n",
       "        text-align: right;\n",
       "    }\n",
       "</style>\n",
       "<table border=\"1\" class=\"dataframe\">\n",
       "  <thead>\n",
       "    <tr style=\"text-align: right;\">\n",
       "      <th></th>\n",
       "      <th>Score</th>\n",
       "      <th>GDP per capita</th>\n",
       "      <th>Social support</th>\n",
       "      <th>Healthy life expectancy</th>\n",
       "      <th>Freedom to make life choices</th>\n",
       "      <th>Generosity</th>\n",
       "      <th>Perceptions of corruption</th>\n",
       "    </tr>\n",
       "  </thead>\n",
       "  <tbody>\n",
       "    <tr>\n",
       "      <th>Score</th>\n",
       "      <td>1.000000</td>\n",
       "      <td>0.793883</td>\n",
       "      <td>0.777058</td>\n",
       "      <td>0.779883</td>\n",
       "      <td>0.566742</td>\n",
       "      <td>0.075824</td>\n",
       "      <td>0.385613</td>\n",
       "    </tr>\n",
       "    <tr>\n",
       "      <th>GDP per capita</th>\n",
       "      <td>0.793883</td>\n",
       "      <td>1.000000</td>\n",
       "      <td>0.754906</td>\n",
       "      <td>0.835462</td>\n",
       "      <td>0.379079</td>\n",
       "      <td>-0.079662</td>\n",
       "      <td>0.298920</td>\n",
       "    </tr>\n",
       "    <tr>\n",
       "      <th>Social support</th>\n",
       "      <td>0.777058</td>\n",
       "      <td>0.754906</td>\n",
       "      <td>1.000000</td>\n",
       "      <td>0.719009</td>\n",
       "      <td>0.447333</td>\n",
       "      <td>-0.048126</td>\n",
       "      <td>0.181899</td>\n",
       "    </tr>\n",
       "    <tr>\n",
       "      <th>Healthy life expectancy</th>\n",
       "      <td>0.779883</td>\n",
       "      <td>0.835462</td>\n",
       "      <td>0.719009</td>\n",
       "      <td>1.000000</td>\n",
       "      <td>0.390395</td>\n",
       "      <td>-0.029511</td>\n",
       "      <td>0.295283</td>\n",
       "    </tr>\n",
       "    <tr>\n",
       "      <th>Freedom to make life choices</th>\n",
       "      <td>0.566742</td>\n",
       "      <td>0.379079</td>\n",
       "      <td>0.447333</td>\n",
       "      <td>0.390395</td>\n",
       "      <td>1.000000</td>\n",
       "      <td>0.269742</td>\n",
       "      <td>0.438843</td>\n",
       "    </tr>\n",
       "    <tr>\n",
       "      <th>Generosity</th>\n",
       "      <td>0.075824</td>\n",
       "      <td>-0.079662</td>\n",
       "      <td>-0.048126</td>\n",
       "      <td>-0.029511</td>\n",
       "      <td>0.269742</td>\n",
       "      <td>1.000000</td>\n",
       "      <td>0.326538</td>\n",
       "    </tr>\n",
       "    <tr>\n",
       "      <th>Perceptions of corruption</th>\n",
       "      <td>0.385613</td>\n",
       "      <td>0.298920</td>\n",
       "      <td>0.181899</td>\n",
       "      <td>0.295283</td>\n",
       "      <td>0.438843</td>\n",
       "      <td>0.326538</td>\n",
       "      <td>1.000000</td>\n",
       "    </tr>\n",
       "  </tbody>\n",
       "</table>\n",
       "</div>"
      ],
      "text/plain": [
       "                                 Score  GDP per capita  Social support  \\\n",
       "Score                         1.000000        0.793883        0.777058   \n",
       "GDP per capita                0.793883        1.000000        0.754906   \n",
       "Social support                0.777058        0.754906        1.000000   \n",
       "Healthy life expectancy       0.779883        0.835462        0.719009   \n",
       "Freedom to make life choices  0.566742        0.379079        0.447333   \n",
       "Generosity                    0.075824       -0.079662       -0.048126   \n",
       "Perceptions of corruption     0.385613        0.298920        0.181899   \n",
       "\n",
       "                              Healthy life expectancy  \\\n",
       "Score                                        0.779883   \n",
       "GDP per capita                               0.835462   \n",
       "Social support                               0.719009   \n",
       "Healthy life expectancy                      1.000000   \n",
       "Freedom to make life choices                 0.390395   \n",
       "Generosity                                  -0.029511   \n",
       "Perceptions of corruption                    0.295283   \n",
       "\n",
       "                              Freedom to make life choices  Generosity  \\\n",
       "Score                                             0.566742    0.075824   \n",
       "GDP per capita                                    0.379079   -0.079662   \n",
       "Social support                                    0.447333   -0.048126   \n",
       "Healthy life expectancy                           0.390395   -0.029511   \n",
       "Freedom to make life choices                      1.000000    0.269742   \n",
       "Generosity                                        0.269742    1.000000   \n",
       "Perceptions of corruption                         0.438843    0.326538   \n",
       "\n",
       "                              Perceptions of corruption  \n",
       "Score                                          0.385613  \n",
       "GDP per capita                                 0.298920  \n",
       "Social support                                 0.181899  \n",
       "Healthy life expectancy                        0.295283  \n",
       "Freedom to make life choices                   0.438843  \n",
       "Generosity                                     0.326538  \n",
       "Perceptions of corruption                      1.000000  "
      ]
     },
     "execution_count": 32,
     "metadata": {},
     "output_type": "execute_result"
    }
   ],
   "source": [
    "df_numerical.corr(method='pearson')"
   ]
  },
  {
   "cell_type": "markdown",
   "metadata": {},
   "source": [
    "SPEARMAN"
   ]
  },
  {
   "cell_type": "code",
   "execution_count": 33,
   "metadata": {
    "scrolled": true
   },
   "outputs": [
    {
     "data": {
      "text/html": [
       "<div>\n",
       "<style scoped>\n",
       "    .dataframe tbody tr th:only-of-type {\n",
       "        vertical-align: middle;\n",
       "    }\n",
       "\n",
       "    .dataframe tbody tr th {\n",
       "        vertical-align: top;\n",
       "    }\n",
       "\n",
       "    .dataframe thead th {\n",
       "        text-align: right;\n",
       "    }\n",
       "</style>\n",
       "<table border=\"1\" class=\"dataframe\">\n",
       "  <thead>\n",
       "    <tr style=\"text-align: right;\">\n",
       "      <th></th>\n",
       "      <th>Score</th>\n",
       "      <th>GDP per capita</th>\n",
       "      <th>Social support</th>\n",
       "      <th>Healthy life expectancy</th>\n",
       "      <th>Freedom to make life choices</th>\n",
       "      <th>Generosity</th>\n",
       "      <th>Perceptions of corruption</th>\n",
       "    </tr>\n",
       "  </thead>\n",
       "  <tbody>\n",
       "    <tr>\n",
       "      <th>Score</th>\n",
       "      <td>1.000000</td>\n",
       "      <td>0.814483</td>\n",
       "      <td>0.816181</td>\n",
       "      <td>0.807275</td>\n",
       "      <td>0.551974</td>\n",
       "      <td>0.070483</td>\n",
       "      <td>0.217348</td>\n",
       "    </tr>\n",
       "    <tr>\n",
       "      <th>GDP per capita</th>\n",
       "      <td>0.814483</td>\n",
       "      <td>1.000000</td>\n",
       "      <td>0.768539</td>\n",
       "      <td>0.851513</td>\n",
       "      <td>0.393426</td>\n",
       "      <td>-0.041304</td>\n",
       "      <td>0.223203</td>\n",
       "    </tr>\n",
       "    <tr>\n",
       "      <th>Social support</th>\n",
       "      <td>0.816181</td>\n",
       "      <td>0.768539</td>\n",
       "      <td>1.000000</td>\n",
       "      <td>0.725997</td>\n",
       "      <td>0.449491</td>\n",
       "      <td>0.007695</td>\n",
       "      <td>0.114017</td>\n",
       "    </tr>\n",
       "    <tr>\n",
       "      <th>Healthy life expectancy</th>\n",
       "      <td>0.807275</td>\n",
       "      <td>0.851513</td>\n",
       "      <td>0.725997</td>\n",
       "      <td>1.000000</td>\n",
       "      <td>0.412906</td>\n",
       "      <td>-0.006773</td>\n",
       "      <td>0.165309</td>\n",
       "    </tr>\n",
       "    <tr>\n",
       "      <th>Freedom to make life choices</th>\n",
       "      <td>0.551974</td>\n",
       "      <td>0.393426</td>\n",
       "      <td>0.449491</td>\n",
       "      <td>0.412906</td>\n",
       "      <td>1.000000</td>\n",
       "      <td>0.324146</td>\n",
       "      <td>0.403586</td>\n",
       "    </tr>\n",
       "    <tr>\n",
       "      <th>Generosity</th>\n",
       "      <td>0.070483</td>\n",
       "      <td>-0.041304</td>\n",
       "      <td>0.007695</td>\n",
       "      <td>-0.006773</td>\n",
       "      <td>0.324146</td>\n",
       "      <td>1.000000</td>\n",
       "      <td>0.286171</td>\n",
       "    </tr>\n",
       "    <tr>\n",
       "      <th>Perceptions of corruption</th>\n",
       "      <td>0.217348</td>\n",
       "      <td>0.223203</td>\n",
       "      <td>0.114017</td>\n",
       "      <td>0.165309</td>\n",
       "      <td>0.403586</td>\n",
       "      <td>0.286171</td>\n",
       "      <td>1.000000</td>\n",
       "    </tr>\n",
       "  </tbody>\n",
       "</table>\n",
       "</div>"
      ],
      "text/plain": [
       "                                 Score  GDP per capita  Social support  \\\n",
       "Score                         1.000000        0.814483        0.816181   \n",
       "GDP per capita                0.814483        1.000000        0.768539   \n",
       "Social support                0.816181        0.768539        1.000000   \n",
       "Healthy life expectancy       0.807275        0.851513        0.725997   \n",
       "Freedom to make life choices  0.551974        0.393426        0.449491   \n",
       "Generosity                    0.070483       -0.041304        0.007695   \n",
       "Perceptions of corruption     0.217348        0.223203        0.114017   \n",
       "\n",
       "                              Healthy life expectancy  \\\n",
       "Score                                        0.807275   \n",
       "GDP per capita                               0.851513   \n",
       "Social support                               0.725997   \n",
       "Healthy life expectancy                      1.000000   \n",
       "Freedom to make life choices                 0.412906   \n",
       "Generosity                                  -0.006773   \n",
       "Perceptions of corruption                    0.165309   \n",
       "\n",
       "                              Freedom to make life choices  Generosity  \\\n",
       "Score                                             0.551974    0.070483   \n",
       "GDP per capita                                    0.393426   -0.041304   \n",
       "Social support                                    0.449491    0.007695   \n",
       "Healthy life expectancy                           0.412906   -0.006773   \n",
       "Freedom to make life choices                      1.000000    0.324146   \n",
       "Generosity                                        0.324146    1.000000   \n",
       "Perceptions of corruption                         0.403586    0.286171   \n",
       "\n",
       "                              Perceptions of corruption  \n",
       "Score                                          0.217348  \n",
       "GDP per capita                                 0.223203  \n",
       "Social support                                 0.114017  \n",
       "Healthy life expectancy                        0.165309  \n",
       "Freedom to make life choices                   0.403586  \n",
       "Generosity                                     0.286171  \n",
       "Perceptions of corruption                      1.000000  "
      ]
     },
     "execution_count": 33,
     "metadata": {},
     "output_type": "execute_result"
    }
   ],
   "source": [
    "df_numerical.corr(method='spearman')"
   ]
  },
  {
   "cell_type": "markdown",
   "metadata": {},
   "source": [
    "Berdasarkan pengukuran korelasi happiness score dengan variabel independen. 3 variabel yang paling mempengaruhi happiness score suatu negara adalah **Social Support, GDP per capita dan Health life expentancy** dengan korelasi yang bersifat searah(+) (Perhitungan ini mendukung visualisasi scatter plot)"
   ]
  },
  {
   "cell_type": "markdown",
   "metadata": {},
   "source": [
    "## 5. Visualisasikan dalam bentuk plot yang tepat untuk menampilkan data berikut"
   ]
  },
  {
   "cell_type": "markdown",
   "metadata": {},
   "source": [
    "**10 Negara dengan healthy life expentancy tertinggi**"
   ]
  },
  {
   "cell_type": "code",
   "execution_count": 34,
   "metadata": {},
   "outputs": [
    {
     "data": {
      "image/png": "[encoded data removed]",
      "text/plain": [
       "<Figure size 1440x360 with 1 Axes>"
      ]
     },
     "metadata": {
      "needs_background": "light"
     },
     "output_type": "display_data"
    }
   ],
   "source": [
    "df_life = df.sort_values(by='Healthy life expectancy', ascending=False).head(10)\n",
    "plt.figure(figsize=(20,5))\n",
    "plt.bar(df_life['Country or region'], df_life['Healthy life expectancy'])\n",
    "plt.title('10 Negara dengan Healthy life expectancy tertinggi')\n",
    "plt.show()"
   ]
  },
  {
   "cell_type": "markdown",
   "metadata": {},
   "source": [
    "**10 Negara dengan GDP per capita tertinggi**"
   ]
  },
  {
   "cell_type": "code",
   "execution_count": 35,
   "metadata": {},
   "outputs": [
    {
     "data": {
      "image/png": "[encoded data removed]",
      "text/plain": [
       "<Figure size 1440x360 with 1 Axes>"
      ]
     },
     "metadata": {
      "needs_background": "light"
     },
     "output_type": "display_data"
    }
   ],
   "source": [
    "df_gdp = df.sort_values(by='GDP per capita', ascending=False).head(10)\n",
    "plt.figure(figsize=(20,5))\n",
    "plt.bar(df_gdp['Country or region'], df_gdp['GDP per capita'])\n",
    "plt.title('10 Negara dengan GDP per capita tertinggi')\n",
    "plt.show()"
   ]
  },
  {
   "cell_type": "markdown",
   "metadata": {},
   "source": [
    "**10 Negara dengan Perceptions of corruption tertinggi**"
   ]
  },
  {
   "cell_type": "code",
   "execution_count": 36,
   "metadata": {},
   "outputs": [
    {
     "data": {
      "image/png": "[encoded data removed]",
      "text/plain": [
       "<Figure size 1440x360 with 1 Axes>"
      ]
     },
     "metadata": {
      "needs_background": "light"
     },
     "output_type": "display_data"
    }
   ],
   "source": [
    "df_corrup = df.sort_values(by='Perceptions of corruption', ascending=False).head(10)\n",
    "plt.figure(figsize=(20,5))\n",
    "plt.bar(df_corrup['Country or region'], df_corrup['Perceptions of corruption'])\n",
    "plt.title('10 Negara dengan perceptions of corruption tertinggi')\n",
    "plt.show()"
   ]
  }
 ],
 "metadata": {
  "kernelspec": {
   "display_name": "Python 3",
   "language": "python",
   "name": "python3"
  },
  "language_info": {
   "codemirror_mode": {
    "name": "ipython",
    "version": 3
   },
   "file_extension": ".py",
   "mimetype": "text/x-python",
   "name": "python",
   "nbconvert_exporter": "python",
   "pygments_lexer": "ipython3",
   "version": "3.7.4"
  }
 },
 "nbformat": 4,
 "nbformat_minor": 2
}
